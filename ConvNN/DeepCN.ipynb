{
 "cells": [
  {
   "cell_type": "code",
   "execution_count": 71,
   "id": "minor-grenada",
   "metadata": {},
   "outputs": [],
   "source": [
    "import torch\n",
    "import numpy as np"
   ]
  },
  {
   "cell_type": "markdown",
   "id": "sustainable-thailand",
   "metadata": {},
   "source": [
    "# Deep CN Class"
   ]
  },
  {
   "cell_type": "code",
   "execution_count": 27,
   "id": "opposed-master",
   "metadata": {},
   "outputs": [
    {
     "name": "stdout",
     "output_type": "stream",
     "text": [
      "[[0, 1], [1, 2], [2, 3], [3, 4], [4, 5]]\n",
      "[4, 5]\n",
      "[3, 4]\n",
      "[2, 3]\n",
      "[1, 2]\n",
      "[0, 1]\n",
      "[]\n"
     ]
    }
   ],
   "source": [
    "cache = []\n",
    "max_pools = [0, 1, 2, 3, 4]\n",
    "for i in range(6):\n",
    "    if i in max_pools:\n",
    "#         print(i)\n",
    "\n",
    "        cache.append([i, i+1])\n",
    "        #cache.extend([i, i+1])\n",
    "        #p = cache.pop()\n",
    "        #print(p)\n",
    "print(cache)\n",
    "for i in range(6):\n",
    "    if i in max_pools:\n",
    "        q = cache.pop()\n",
    "        print(q)\n",
    "print(cache)"
   ]
  },
  {
   "cell_type": "code",
   "execution_count": 32,
   "id": "speaking-differential",
   "metadata": {},
   "outputs": [
    {
     "name": "stdout",
     "output_type": "stream",
     "text": [
      "torch.Size([3, 120])\n"
     ]
    }
   ],
   "source": [
    "x=torch.rand(3,4,5,6)\n",
    "x=x.view(x.shape[0],-1)\n",
    "print(x.shape)"
   ]
  },
  {
   "cell_type": "code",
   "execution_count": 70,
   "id": "invalid-referral",
   "metadata": {},
   "outputs": [
    {
     "name": "stdout",
     "output_type": "stream",
     "text": [
      "a tensor([[5.9165e-01, 5.4735e-04, 7.8323e-01, 8.0679e-01],\n",
      "        [9.6626e-01, 6.3000e-01, 6.0760e-01, 8.9022e-01],\n",
      "        [2.9156e-01, 7.6167e-01, 2.0949e-01, 7.4576e-01]]) b tensor([0.1859, 0.4605]) \n",
      " c torch.Size([2]) 0\n"
     ]
    }
   ],
   "source": [
    "cache=[]\n",
    "x = torch.rand(3,4)\n",
    "w = torch.rand(5,3)\n",
    "cache0 = (x, w)\n",
    "t = torch.rand([2,])\n",
    "#print(cache0)\n",
    "for i in range(6):\n",
    "    cache1 = (i*x, t)\n",
    "    cache.append(cache1)\n",
    "    if i == 5:\n",
    "        cache.append(cache0)\n",
    "    \n",
    "for i in range(6):\n",
    "    if i == 5:\n",
    "        a,b = cache.pop()\n",
    "    c = cache.pop()\n",
    "print('a',a,'b',b,'\\n','c', c[1].shape, len(cache))"
   ]
  },
  {
   "cell_type": "code",
   "execution_count": 81,
   "id": "smoking-alcohol",
   "metadata": {},
   "outputs": [
    {
     "name": "stdout",
     "output_type": "stream",
     "text": [
      "[1.00000000e-10 1.66810054e-09 2.78255940e-08 4.64158883e-07\n",
      " 7.74263683e-06 1.29154967e-04 2.15443469e-03 3.59381366e-02\n",
      " 5.99484250e-01 1.00000000e+01]\n",
      "tensor(2.7826e-08)\n"
     ]
    }
   ],
   "source": [
    "x = np.logspace(-10, 1, 10)\n",
    "print(x)\n",
    "y = torch.logspace(-10, 1, 10)\n",
    "print(y[2])"
   ]
  }
 ],
 "metadata": {
  "kernelspec": {
   "display_name": "Python 3",
   "language": "python",
   "name": "python3"
  },
  "language_info": {
   "codemirror_mode": {
    "name": "ipython",
    "version": 3
   },
   "file_extension": ".py",
   "mimetype": "text/x-python",
   "name": "python",
   "nbconvert_exporter": "python",
   "pygments_lexer": "ipython3",
   "version": "3.8.5"
  }
 },
 "nbformat": 4,
 "nbformat_minor": 5
}
