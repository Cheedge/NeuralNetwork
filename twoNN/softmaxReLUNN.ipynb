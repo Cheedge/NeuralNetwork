{
 "cells": [
  {
   "cell_type": "code",
   "execution_count": 65,
   "id": "sized-absolute",
   "metadata": {},
   "outputs": [
    {
     "name": "stdout",
     "output_type": "stream",
     "text": [
      "tensor([[1.9289, 1.5684],\n",
      "        [1.2898, 1.0813],\n",
      "        [1.4758, 1.2528],\n",
      "        [1.3474, 0.8687]]) \n",
      " tensor([[1.9289, 1.5684],\n",
      "        [1.2898, 1.0813],\n",
      "        [1.4758, 1.2528],\n",
      "        [1.3474, 0.8687]]) \n",
      "\n",
      " scores =\n",
      " tensor([[2.1572, 2.2741, 2.7353, 0.5950, 1.5344],\n",
      "        [1.6569, 1.7590, 2.0642, 0.6128, 1.2395],\n",
      "        [2.1632, 2.2915, 2.6391, 0.9688, 1.6851],\n",
      "        [1.7357, 1.6509, 1.9958, 0.6411, 1.3079]])\n",
      "\n",
      " tensor([1, 0, 2, 3])\n"
     ]
    }
   ],
   "source": [
    "import numpy as np\n",
    "import torch\n",
    "\n",
    "X = torch.rand([4, 3]) # N * D = 4 * 3\n",
    "W1 = torch.rand([3, 2]) # D * H = 3 * 2\n",
    "b1 = torch.rand([4, 1]) # N * 1 = 4\n",
    "W2 = torch.rand([2, 5]) # H * C = 2 * 5\n",
    "b2 = torch.rand([4, 1]) # N * 1 = 4\n",
    "y = torch.randperm(4) # N * 1 = 4\n",
    "reg = 0.01\n",
    "\n",
    "N, D = X.shape\n",
    "D, H = W1.shape\n",
    "C = W2.shape[1]\n",
    "#a = np.random.rand(4,3)\n",
    "#a = np.array(np.random.rand(3,2))\n",
    "\n",
    "H0 = X.mm(W1) + b1 # N * H = 4 * 2\n",
    "# ReLU of 1st hidden\n",
    "hidden = torch.maximum(torch.zeros_like(H0), H0) # N * H = 4 * 2\n",
    "\n",
    "scores = hidden.mm(W2) + b2 # N * C = 4 * 5\n",
    "\n",
    "print(H0, '\\n', hidden, '\\n\\n', 'scores =\\n', scores)\n",
    "print('\\n', y)"
   ]
  },
  {
   "cell_type": "code",
   "execution_count": 76,
   "id": "acute-paradise",
   "metadata": {},
   "outputs": [
    {
     "name": "stdout",
     "output_type": "stream",
     "text": [
      "tensor([[1., 1.],\n",
      "        [1., 1.],\n",
      "        [1., 1.],\n",
      "        [1., 1.]])\n"
     ]
    }
   ],
   "source": [
    "# Forwardprop\n",
    "num = torch.arange(N)\n",
    "denominator = torch.sum(torch.exp(scores), axis = 1, keepdim = True) # N * 1 = 4 * 1\n",
    "softmax = torch.exp(scores) / denominator # N * C = 4 * 5\n",
    "correct_class = softmax[num, y]\n",
    "#print(softmax, correct_class)\n",
    "loss = torch.sum(-torch.log(correct_class)) / N\n",
    "loss += reg * (torch.sum(W1 * W1) + torch.sum(W2 * W2))\n",
    "\n",
    "\n",
    "# Backprop\n",
    "grad = {}\n",
    "\n",
    "# last layer\n",
    "softmax[num, y] -= 1\n",
    "#print(softmax)\n",
    "grad['W2'] = hidden.t().mm(softmax) # H * C = 2 * 5\n",
    "grad['b2'] = denominator * C - 1 # N * 1 = 4 * 1\n",
    "grad['hidden'] = softmax.mm(W2.t()) # N * H = 4 * 2\n",
    "\n",
    "# 2nd last layer: ReLU\n",
    "# refer: https://stackoverflow.com/questions/58002836/pytorch-1-if-x-0-5-else-0-for-x-in-outputs-with-tensors\n",
    "grad_ReLU = (hidden > 0).float()\n",
    "#print(grad_ReLU)\n",
    "grad['hidden'] *= grad_ReLU # N * H = 4 * 2\n",
    "#print(grad['hidden'], '\\n')\n",
    "\n",
    "# input layer\n",
    "grad['W1'] = X.t().mm(grad['hidden']) # D * H = (D * N) (N * H) = 3 * 2\n",
    "grad['b1'] = torch.sum(grad['hidden'], axis = 1, keepdim = True) # N * 1\n",
    "#print(grad['b1'], '\\n', b1)"
   ]
  }
 ],
 "metadata": {
  "kernelspec": {
   "display_name": "Python 3",
   "language": "python",
   "name": "python3"
  },
  "language_info": {
   "codemirror_mode": {
    "name": "ipython",
    "version": 3
   },
   "file_extension": ".py",
   "mimetype": "text/x-python",
   "name": "python",
   "nbconvert_exporter": "python",
   "pygments_lexer": "ipython3",
   "version": "3.8.5"
  }
 },
 "nbformat": 4,
 "nbformat_minor": 5
}
