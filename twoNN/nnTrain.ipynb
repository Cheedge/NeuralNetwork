{
 "cells": [
  {
   "cell_type": "code",
   "execution_count": 2,
   "id": "agreed-canal",
   "metadata": {},
   "outputs": [],
   "source": [
    "import torch\n",
    "X = torch.rand([5, 3]) # N * D = 5 * 3\n",
    "W1 = torch.rand([3, 2]) # D * H = 3 * 2\n",
    "b1 = torch.rand([5, 1]) # N * 1 = 5\n",
    "W2 = torch.rand([2, 4]) # H * C = 2 * 4\n",
    "b2 = torch.rand([5, 1]) # N * 1 = 5\n",
    "y = torch.randperm(5) # N * 1 = 4\n",
    "reg = 0.01\n",
    "\n",
    "N, D = X.shape\n",
    "D, H = W1.shape\n",
    "C = W2.shape[1]"
   ]
  },
  {
   "cell_type": "code",
   "execution_count": 12,
   "id": "outside-cardiff",
   "metadata": {},
   "outputs": [
    {
     "name": "stdout",
     "output_type": "stream",
     "text": [
      "tensor([[3],\n",
      "        [3],\n",
      "        [3],\n",
      "        [3],\n",
      "        [3]]) tensor([3, 4, 2, 0, 1]) \n",
      " torch.return_types.max(\n",
      "values=tensor([1.4182, 1.8316, 1.6871, 1.0256, 2.3055]),\n",
      "indices=tensor([3, 3, 3, 3, 3]))\n",
      "torch.return_types.max(\n",
      "values=tensor([1.4182, 1.8316, 1.6871, 1.0256, 2.3055]),\n",
      "indices=tensor([3, 3, 3, 3, 3]))\n"
     ]
    }
   ],
   "source": [
    "hidden = X.mm(W1) + b1\n",
    "hidden = torch.maximum(torch.zeros_like(hidden), hidden)\n",
    "score = hidden.mm(W2) + b2\n",
    "y_pred = torch.argmax(score, axis = 1, keepdim = True)\n",
    "y_new = score.max(dim = 1)\n",
    "print(y_pred, y, '\\n', y_new)\n",
    "#print(\"torch.max()=%f and %f\" %(torch.max(score, dim = 1)))\n",
    "print(torch.max(score, dim = 1))"
   ]
  }
 ],
 "metadata": {
  "kernelspec": {
   "display_name": "Python 3",
   "language": "python",
   "name": "python3"
  },
  "language_info": {
   "codemirror_mode": {
    "name": "ipython",
    "version": 3
   },
   "file_extension": ".py",
   "mimetype": "text/x-python",
   "name": "python",
   "nbconvert_exporter": "python",
   "pygments_lexer": "ipython3",
   "version": "3.8.5"
  }
 },
 "nbformat": 4,
 "nbformat_minor": 5
}
