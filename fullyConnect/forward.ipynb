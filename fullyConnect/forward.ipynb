{
 "cells": [
  {
   "cell_type": "code",
   "execution_count": 1,
   "id": "assured-envelope",
   "metadata": {},
   "outputs": [
    {
     "name": "stdout",
     "output_type": "stream",
     "text": [
      "4\n",
      "tensor([[12.4602, 10.7019, 11.6882]])\n"
     ]
    }
   ],
   "source": [
    "import torch\n",
    "import numpy as np\n",
    "x = torch.rand([5, 2, 3, 4]) # N * d0 * d1 * d2\n",
    "w = torch.rand([24, 3]) # D * M, (D = d0 * d1 * d2)\n",
    "b = torch.rand([3, ]) # M\n",
    "print(len(x.shape))\n",
    "print(torch.sum(w, axis = 0, keepdim = True))"
   ]
  },
  {
   "cell_type": "code",
   "execution_count": 2,
   "id": "statistical-motion",
   "metadata": {},
   "outputs": [
    {
     "name": "stdout",
     "output_type": "stream",
     "text": [
      "4\n",
      "[5, 2, 3, 4] tensor([[True, True, True],\n",
      "        [True, True, True],\n",
      "        [True, True, True],\n",
      "        [True, True, True],\n",
      "        [True, True, True]])\n",
      "tensor([[0.2781, 0.0152, 0.8285],\n",
      "        [0.9984, 0.7972, 0.7096],\n",
      "        [0.3702, 0.6674, 0.8093],\n",
      "        [0.6854, 0.5422, 0.9972],\n",
      "        [0.2853, 0.2787, 0.2219]]) \n",
      " tensor([[0.2781, 0.0152, 0.8285],\n",
      "        [0.9984, 0.7972, 0.7096],\n",
      "        [0.3702, 0.6674, 0.8093],\n",
      "        [0.6854, 0.5422, 0.9972],\n",
      "        [0.2853, 0.2787, 0.2219]])\n",
      "tensor([2.6175, 2.3007, 3.5664])\n"
     ]
    }
   ],
   "source": [
    "N = x.shape[0]\n",
    "\n",
    "num = len(x.shape)\n",
    "print(num)\n",
    "D = 1\n",
    "D0, M = w.shape\n",
    "#print(D0)\n",
    "D_vec = [N]\n",
    "for i in range(1, num, 1):\n",
    "    D_vec.append(x.shape[i]) # [d0, d1, d2]\n",
    "\n",
    "for i in range(1, num, 1):\n",
    "    D *= x.shape[i]\n",
    "\n",
    "x_row = x.reshape([N, D]) # N * D\n",
    "out = x_row.mm(w) + b\n",
    "out = torch.maximum(torch.zeros_like(out), out)\n",
    "print(D_vec, (out > 0))\n",
    "\n",
    "\n",
    "XX = torch.rand([N, D])\n",
    "dout = torch.rand([N, M])\n",
    "dReLU = (out > 0) * dout\n",
    "print(dout, '\\n', dReLU)\n",
    "dx = XX.reshape(D_vec) # N * D --> N * d0 * d1 * d2\n",
    "db = torch.sum(dout, axis = 0)\n",
    "print(db)"
   ]
  },
  {
   "cell_type": "code",
   "execution_count": 3,
   "id": "neutral-hunger",
   "metadata": {},
   "outputs": [
    {
     "name": "stdout",
     "output_type": "stream",
     "text": [
      "tensor([1, 4, 2, 3])\n",
      "{'W1': tensor([[0.0000e+00],\n",
      "        [0.0000e+00],\n",
      "        [0.0000e+00],\n",
      "        [4.8596e-08],\n",
      "        [0.0000e+00]]), 'W2': tensor([[0.0000e+00, 1.0082e-20, 0.0000e+00, 0.0000e+00]]), 'W3': tensor([[3.3340e-24, 0.0000e+00],\n",
      "        [0.0000e+00, 0.0000e+00],\n",
      "        [0.0000e+00, 0.0000e+00],\n",
      "        [0.0000e+00, 0.0000e+00]]), 'W4': tensor([[0.0000, 0.0000, 0.0008],\n",
      "        [0.0000, 0.0000, 0.0000]])}\n"
     ]
    }
   ],
   "source": [
    "param = {}\n",
    "ws = 1e-2\n",
    "hidden_dims = torch.randperm(4) + 1\n",
    "input_dim = 5\n",
    "num_layers = len(hidden_dims) + 1\n",
    "# g0 = torch.rand(input_dim, hidden_dims[0])\n",
    "# param['W1'] = (1 / np.sqrt( 2 * np.pi ) * w) * torch.exp(-0.5 * g0 * g0 / (w * w))\n",
    "\n",
    "print(hidden_dims)\n",
    "for it in range(num_layers - 1):\n",
    "    W_name = \"W%d\" %(it + 1)\n",
    "    if it == 0:\n",
    "        g = torch.rand(input_dim, hidden_dims[0])\n",
    "#     elif it == (num_layers - 1):\n",
    "#          g = torch.rand(hidden_dims[num_layers - 2], num_classes)\n",
    "    else:\n",
    "        g = torch.rand(hidden_dims[it - 1], hidden_dims[it])\n",
    "    param[W_name] = (1 / np.sqrt( 2 * np.pi ) * ws) * torch.exp(-0.5 * g * g / (ws * ws))\n",
    "# for it in range(len(hidden_dims) - 1):\n",
    "#     W_name = \"W%d\" % (it + 2)\n",
    "#     # W_name = \"W\" + str(it + 2)\n",
    "#     gaussian = torch.rand(hidden_dims[it], hidden_dims[it + 1])\n",
    "#     param[W_name] = (1 / np.sqrt( 2 * np.pi ) * w) * torch.exp(-0.5 * gaussian * gaussian / (w * w))\n",
    "#     #print(param[W_name], it)\n",
    "print(param)"
   ]
  },
  {
   "cell_type": "code",
   "execution_count": 4,
   "id": "present-server",
   "metadata": {},
   "outputs": [
    {
     "name": "stdout",
     "output_type": "stream",
     "text": [
      "tensor(1)\n",
      "{6: 148.4131591025766, 5: 54.598150033144236, 4: 20.085536923187668, 3: 7.38905609893065, 2: 2.718281828459045}\n",
      "7.38905609893065\n",
      "tensor([0.0000, 0.9848, 0.3910])\n"
     ]
    },
    {
     "data": {
      "text/plain": [
       "tensor([0.0000, 0.0000, 0.3910])"
      ]
     },
     "execution_count": 4,
     "metadata": {},
     "output_type": "execute_result"
    }
   ],
   "source": [
    "print(hidden_dims[-4])\n",
    "LR_cache = {}\n",
    "\n",
    "for i in range(5, 0, -1):\n",
    "    LR_cache[i + 1] = np.exp(i)\n",
    "print(LR_cache)\n",
    "print(LR_cache[3])\n",
    "\n",
    "u = np.random.rand(*b.shape) < 0.5\n",
    "u0 = torch.rand(*b.shape) < 0.5\n",
    "print(b * u0)\n",
    "b * u"
   ]
  },
  {
   "cell_type": "code",
   "execution_count": 65,
   "id": "environmental-fight",
   "metadata": {},
   "outputs": [
    {
     "data": {
      "text/plain": [
       "2.5066282746310002"
      ]
     },
     "execution_count": 65,
     "metadata": {},
     "output_type": "execute_result"
    }
   ],
   "source": [
    "np.sqrt(2 * np.pi)"
   ]
  },
  {
   "cell_type": "code",
   "execution_count": 19,
   "id": "handmade-promise",
   "metadata": {},
   "outputs": [
    {
     "name": "stdout",
     "output_type": "stream",
     "text": [
      "torch.Size([2, 3, 4])\n",
      "torch.Size([5, 24])\n"
     ]
    }
   ],
   "source": [
    "#print(x_row)\n",
    "#print(x_row.reshape(x.shape))\n",
    "#print(x_row.view(x.shape))\n",
    "#print(x_row.view(x.shape) == x_row.reshape(x.shape))\n",
    "print(x.shape)\n",
    "x_row = x.view(x.shape[0], -1)\n",
    "print(x_row.shape)"
   ]
  },
  {
   "cell_type": "markdown",
   "id": "diagnostic-aquatic",
   "metadata": {},
   "source": [
    "## Rotate matrix"
   ]
  },
  {
   "cell_type": "code",
   "execution_count": 11,
   "id": "amateur-panama",
   "metadata": {},
   "outputs": [
    {
     "name": "stdout",
     "output_type": "stream",
     "text": [
      "tensor([[[[0.8351, 0.7733],\n",
      "          [0.9807, 0.3554]],\n",
      "\n",
      "         [[0.0965, 0.5460],\n",
      "          [0.4826, 0.4192]],\n",
      "\n",
      "         [[0.3154, 0.5795],\n",
      "          [0.2136, 0.8612]],\n",
      "\n",
      "         [[0.2941, 0.7209],\n",
      "          [0.7095, 0.9664]]],\n",
      "\n",
      "\n",
      "        [[[0.5482, 0.6978],\n",
      "          [0.5921, 0.2559]],\n",
      "\n",
      "         [[0.2549, 0.2895],\n",
      "          [0.8023, 0.7819]],\n",
      "\n",
      "         [[0.7965, 0.9899],\n",
      "          [0.7454, 0.0882]],\n",
      "\n",
      "         [[0.3860, 0.3873],\n",
      "          [0.2498, 0.0396]]],\n",
      "\n",
      "\n",
      "        [[[0.2459, 0.1550],\n",
      "          [0.8622, 0.8264]],\n",
      "\n",
      "         [[0.5140, 0.0087],\n",
      "          [0.3564, 0.1432]],\n",
      "\n",
      "         [[0.4434, 0.2489],\n",
      "          [0.0140, 0.2768]],\n",
      "\n",
      "         [[0.4537, 0.5329],\n",
      "          [0.4750, 0.4575]]]])\n",
      "tensor([[[[0.8351, 0.7733],\n",
      "          [0.9807, 0.3554]],\n",
      "\n",
      "         [[0.0965, 0.5460],\n",
      "          [0.4826, 0.4192]],\n",
      "\n",
      "         [[0.3154, 0.5795],\n",
      "          [0.2136, 0.8612]],\n",
      "\n",
      "         [[0.2941, 0.7209],\n",
      "          [0.7095, 0.9664]]],\n",
      "\n",
      "\n",
      "        [[[0.5482, 0.6978],\n",
      "          [0.5921, 0.2559]],\n",
      "\n",
      "         [[0.2549, 0.2895],\n",
      "          [0.8023, 0.7819]],\n",
      "\n",
      "         [[0.7965, 0.9899],\n",
      "          [0.7454, 0.0882]],\n",
      "\n",
      "         [[0.3860, 0.3873],\n",
      "          [0.2498, 0.0396]]],\n",
      "\n",
      "\n",
      "        [[[0.2459, 0.1550],\n",
      "          [0.8622, 0.8264]],\n",
      "\n",
      "         [[0.5140, 0.0087],\n",
      "          [0.3564, 0.1432]],\n",
      "\n",
      "         [[0.4434, 0.2489],\n",
      "          [0.0140, 0.2768]],\n",
      "\n",
      "         [[0.4537, 0.5329],\n",
      "          [0.4750, 0.4575]]]])\n"
     ]
    }
   ],
   "source": [
    "W_f = torch.rand(3, 4, 2, 2)\n",
    "print(W_f)\n",
    "W_f.transpose(2, 3)\n",
    "print(W_f)"
   ]
  },
  {
   "cell_type": "code",
   "execution_count": 28,
   "id": "criminal-blowing",
   "metadata": {},
   "outputs": [
    {
     "name": "stdout",
     "output_type": "stream",
     "text": [
      "tensor([[[[[0., 0., 0., 0.],\n",
      "           [0., 0., 0., 0.],\n",
      "           [0., 0., 0., 0.],\n",
      "           [0., 0., 0., 0.]]]]])\n",
      "tensor([[[[[0., 0., 0., 0.],\n",
      "           [1., 1., 1., 1.],\n",
      "           [2., 2., 2., 2.],\n",
      "           [3., 3., 3., 3.]]]]])\n",
      "tensor([[[[[3., 3., 3., 3.],\n",
      "           [2., 2., 2., 2.],\n",
      "           [1., 1., 1., 1.],\n",
      "           [0., 0., 0., 0.]]]]])\n"
     ]
    }
   ],
   "source": [
    "x = torch.zeros(1, 1, 1, 4, 4)\n",
    "print(x)\n",
    "for i in range(4):\n",
    "    x[:, :, :, i] = i\n",
    "print(x)\n",
    "x90 = x.transpose(3, 4)\n",
    "x180 = x.rot90(2, [3, 4])\n",
    "print(x180)"
   ]
  },
  {
   "cell_type": "code",
   "execution_count": 22,
   "id": "dated-chambers",
   "metadata": {
    "collapsed": true
   },
   "outputs": [
    {
     "name": "stdout",
     "output_type": "stream",
     "text": [
      "tensor([[[0, 1],\n",
      "         [2, 3]],\n",
      "\n",
      "        [[4, 5],\n",
      "         [6, 7]]])\n",
      "torch.Size([1, 3, 7, 7])\n"
     ]
    }
   ],
   "source": [
    "x = torch.arange(8).view(2,2,2)\n",
    "\n",
    "print(x)\n",
    "torch.rot90(x, 1, [1, 2])\n",
    "\n",
    "in_dim = [1, 3, 7, 7]\n",
    "cha = torch.randn(in_dim)\n",
    "print(cha.shape)"
   ]
  },
  {
   "cell_type": "code",
   "execution_count": 30,
   "id": "corporate-chase",
   "metadata": {},
   "outputs": [
    {
     "name": "stdout",
     "output_type": "stream",
     "text": [
      "tensor([[0., 0.],\n",
      "        [0., 0.]]) \n",
      " tensor([[0.0000, 0.0000],\n",
      "        [1.3316, 0.0000]])\n",
      "\n",
      " tensor([[-0.4245, -0.0954],\n",
      "        [ 1.3316, -0.2383]]) \n",
      " tensor([1.3316]) \n",
      " tensor([[-0.0000, -0.0000],\n",
      "        [1.3316, -0.0000]]) \n",
      " tensor([[0.0000, 0.0000],\n",
      "        [1.3316, 0.0000]])\n",
      "torch.Size([3, 3, 2, 2])\n",
      "[4, 5, 6]\n",
      "tensor([[0.4993, 0.2629, 0.2566],\n",
      "        [0.9670, 0.4593, 0.0375]]) tensor([0.3396, 0.4879])\n",
      "tensor([0.0191, 0.2166]) tensor([0.0191, 0.2166])\n"
     ]
    }
   ],
   "source": [
    "\n",
    "x2 = torch.randn(2,2)\n",
    "x2_maximum = torch.maximum(torch.zeros_like(x2), x2)\n",
    "x2_maximum2 = torch.maximum(x2, torch.zeros_like(x2))\n",
    "print(torch.zeros_like(x2), '\\n', x2_maximum2)\n",
    "print('\\n',x2, '\\n',x2[x2>0], '\\n', x2 * (x2 > 0), '\\n', x2_maximum)\n",
    "print(torch.randn(3, 3, 2, 2).shape)\n",
    "6 * torch.ones(3,3)\n",
    "x1 = []\n",
    "x1.append([1,2,3])\n",
    "x1.append([4,5,6])\n",
    "print(x1.pop())\n",
    "\n"
   ]
  },
  {
   "cell_type": "code",
   "execution_count": 32,
   "id": "cognitive-chapter",
   "metadata": {},
   "outputs": [
    {
     "name": "stdout",
     "output_type": "stream",
     "text": [
      "tensor([[0.6170, 0.5535, 0.9456],\n",
      "        [0.1557, 0.1038, 0.0147]]) tensor([0.7053, 0.0914])\n",
      "tensor([0.0443, 0.0051]) tensor([0.0443, 0.0051])\n"
     ]
    },
    {
     "data": {
      "text/plain": [
       "tensor([[0.5462, 0.4324, 0.1227],\n",
       "        [0.1378, 0.0811, 0.0019]])"
      ]
     },
     "execution_count": 32,
     "metadata": {},
     "output_type": "execute_result"
    }
   ],
   "source": [
    "x3 = torch.rand(2,3)\n",
    "mu = x3.mean(dim=1)\n",
    "std = x3.std(dim=1)\n",
    "print(x3, mu)\n",
    "(x3[1,] - mu[1])/torch.sqrt(std[1]**2)\n",
    "print(x3.std(dim=1)**2, x3.var(dim=1))\n",
    "x4 = torch.rand(1,3)\n",
    "x4 * x3"
   ]
  },
  {
   "cell_type": "code",
   "execution_count": 16,
   "id": "excited-graphic",
   "metadata": {},
   "outputs": [
    {
     "name": "stdout",
     "output_type": "stream",
     "text": [
      "torch.Size([3, 4, 5, 6]) \n",
      " torch.Size([3, 4, 3, 3])\n",
      "torch.Size([3, 4, 5, 6])\n"
     ]
    }
   ],
   "source": [
    "x5 = torch.rand(3, 4, 5, 6)\n",
    "x5_a = torch.rand(2, 4, 5, 6)\n",
    "y1 = x5[:, :, 2:5, 3:6]\n",
    "print(x5.shape, '\\n',y1.shape)\n",
    "for i in range(2):\n",
    "    y2 = x5 * x5_a[i,]\n",
    "print(y2.shape)\n"
   ]
  }
 ],
 "metadata": {
  "kernelspec": {
   "display_name": "Python 3",
   "language": "python",
   "name": "python3"
  },
  "language_info": {
   "codemirror_mode": {
    "name": "ipython",
    "version": 3
   },
   "file_extension": ".py",
   "mimetype": "text/x-python",
   "name": "python",
   "nbconvert_exporter": "python",
   "pygments_lexer": "ipython3",
   "version": "3.8.5"
  }
 },
 "nbformat": 4,
 "nbformat_minor": 5
}
